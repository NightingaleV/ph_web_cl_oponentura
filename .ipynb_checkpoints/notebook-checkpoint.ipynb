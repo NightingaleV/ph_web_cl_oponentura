{
 "cells": [
  {
   "cell_type": "markdown",
   "metadata": {
    "colab_type": "text",
    "id": "ru4wYSxk1eMy"
   },
   "source": [
    "# Detekce Phishingové webové stránky\n",
    "\n",
    "**Phishing** je podvodná technika používaná na internetu, která slouží k získání citlivých údajů, které se dají zpeněžit (čísla kreditních karet, přihlašovací údaje do internetového bankovnictví, nebo session ids v prohlížeči, které mohou být použity pro CSRF útok). Odkaz na podvodnou stránku je obvykle zaslán emailem nebo v rámci instant messagingu, kde se komunikace vydává za nějaký důvěryhodný zdroj (sociální síť, internetové bankovnictví, platební portál, orgán veřejné správy atd.). Oklamaný adresát poté na této stránce může útočníkům požadované citlivé údaje poskytnout.\n",
    "\n",
    "Na [Kagglu](https://www.kaggle.com/kunal4892/phishingandlegitimateurls) je k dispozici dataset, který obsahuje charakteristiky url adres spolu s označením, zda se jedná o phishingovou stránku.\n",
    "\n",
    "## Sloupce v původním datasetu\n",
    "\n",
    "|Název sloupce|Popis|\n",
    "|:---|:---|\n",
    "|**domain**|url adresa stránky|\n",
    "|**ranking**|Page Ranking|\n",
    "|**isIp**|příznak, zda se jedná o IP adresu|\n",
    "|**valid**|validní adresa podle Google Whois API|\n",
    "|**activeDuration**|Další metrika z Google Whois API, udává, jak dlouho je adresa v chodu (zdroj neudává ani odkaz na API ani jednotky)|\n",
    "|**urlLen**|délka celé url adresy v počtu znaků|\n",
    "|**is@**|příznak, jestli URL adresa obsahuje znak '**@**'|\n",
    "|**isredirect**|příznak, který udává, jestli jsou v URL adrese dvě popředné lomítka ('**//**'), ty totiž slouží k redirectu na adresu, která po nich následuje|\n",
    "|**haveDash**|příznak, který udává, jestli je v doméně nebo v subdoméně znak '**-**'|\n",
    "|**domainLen**|délka domény v počtu znaků (počítají se top level doména, subdomény i tečky)|\n",
    "|**nosOfSubdomain**|počet subdomén|\n",
    "|**label**|cílová proměnná, **0** znamená neškodnou stránku, **1** znamená phishingovou stránku|\n",
    "\n",
    "Cílem této seminární práce je použít tento dataset k vytvoření a evaluaci modelů, které by sloužili ke klasifikaci url adresy jako bezpečné nebo jako potencionálně podvodné. Jedná se tedy o binární klasifikační úlohu. Součástí práce je explorativní analýza dat, jejich předzpracování, odvození nových hodnot a tvorba modelů pomocí různých algoritmů a jejich evaluace."
   ]
  },
  {
   "cell_type": "markdown",
   "metadata": {
    "colab_type": "text",
    "id": "DstMOwVp1fqy"
   },
   "source": [
    "# Import knihoven a dat\n",
    "\n",
    "Data jsou načtena z URL adresy **Github** repozitáře (dostupného na [této](https://github.com/PetrNovak96/ph_web_cl)) adrese, aby nebylo použití notebooku závislé na lokální dostupnosti csv souborů. Soubory jsou dva:\n",
    "\n",
    "Soubor **tinyURLs.csv** obsahuje seznam různých tiny url služeb. \n",
    "\n",
    "Soubor **dataset.csv** obsahuje původní dataset dostupný z **Kagglu**, do kterého je předpočítán sloupec **usesHttps**. Zjištění, zda stránky umožňují HTTPS připojení je při tomto rozsahu dat náročná **I / 0** operace. Pro výpočet tohoto sloupce byl použit skript [**https_threading.py**](https://github.com/PetrNovak96/ph_web_cl/blob/master/https_threading.py), který tuto operaci rozložil na 100 vláken. Výpočet potom trval zhruba hodinu."
   ]
  },
  {
   "cell_type": "markdown",
   "metadata": {},
   "source": [
    "### < Poznamky oponenta >\n",
    "- Nadpis import knihoven ale o knihovnach jsem se nic nedozvedel\n",
    "- Custom script pro vypocet sloupce usesHttps"
   ]
  },
  {
   "cell_type": "code",
   "execution_count": 1,
   "metadata": {
    "colab": {},
    "colab_type": "code",
    "id": "wy8dVuYk1iKV"
   },
   "outputs": [],
   "source": [
    "import numpy as np\n",
    "import pandas as pd\n",
    "import matplotlib.pyplot as plt\n",
    "import re\n",
    "import math\n",
    "import requests\n",
    "from sklearn.preprocessing import MaxAbsScaler\n",
    "from sklearn.metrics import roc_curve, auc, confusion_matrix, plot_confusion_matrix\n",
    "from sklearn.model_selection import train_test_split, GridSearchCV\n",
    "from sklearn.linear_model import LogisticRegressionCV, LogisticRegression\n",
    "from sklearn.tree import DecisionTreeClassifier, plot_tree\n",
    "from sklearn.neural_network import MLPClassifier\n",
    "from sklearn.ensemble import RandomForestClassifier\n",
    "from imblearn.over_sampling import SMOTE\n",
    "\n",
    "dataset_url = 'https://raw.githubusercontent.com/PetrNovak96/ph_web_cl/master/dataset.csv'\n",
    "tinyurls_url = 'https://raw.githubusercontent.com/PetrNovak96/ph_web_cl/master/tinyURLs.csv'\n",
    "\n",
    "df = pd.read_csv(dataset_url)\n",
    "tinyurls = pd.read_csv(tinyurls_url)"
   ]
  },
  {
   "cell_type": "markdown",
   "metadata": {},
   "source": [
    "### < Poznamky oponenta >\n",
    "- Skript obsahuje balík, který není součástí distribuce anaconda a v repozitáři neni přítomný requirements.txt ani pipfile.lock pro vytvoření kopie env.\n",
    "\n",
    "![package](img/imblearn_error.png)"
   ]
  },
  {
   "cell_type": "code",
   "execution_count": 2,
   "metadata": {},
   "outputs": [
    {
     "name": "stdout",
     "output_type": "stream",
     "text": [
      "Collecting imblearn\n",
      "  Using cached imblearn-0.0-py2.py3-none-any.whl (1.9 kB)\n",
      "Collecting imbalanced-learn\n",
      "  Using cached imbalanced_learn-0.6.2-py3-none-any.whl (163 kB)\n",
      "Collecting numpy>=1.11\n",
      "  Using cached numpy-1.18.4-cp37-cp37m-win_amd64.whl (12.8 MB)\n",
      "Collecting joblib>=0.11\n",
      "  Using cached joblib-0.14.1-py2.py3-none-any.whl (294 kB)\n",
      "Collecting scikit-learn>=0.22\n",
      "  Using cached scikit_learn-0.22.2.post1-cp37-cp37m-win_amd64.whl (6.5 MB)\n",
      "Collecting scipy>=0.17\n",
      "  Using cached scipy-1.4.1-cp37-cp37m-win_amd64.whl (30.9 MB)\n",
      "Installing collected packages: numpy, joblib, scipy, scikit-learn, imbalanced-learn, imblearn\n",
      "Successfully installed imbalanced-learn-0.6.2 imblearn-0.0 joblib-0.14.1 numpy-1.18.4 scikit-learn-0.22.2.post1 scipy-1.4.1\n"
     ]
    }
   ],
   "source": [
    "# KOD OPONENTA\n",
    "# Slo by vyresit inline \n",
    "!pip install imblearn"
   ]
  },
  {
   "cell_type": "markdown",
   "metadata": {
    "colab_type": "text",
    "id": "pp8p3Q5w1kc8"
   },
   "source": [
    "# Explorace dat\n"
   ]
  },
  {
   "cell_type": "markdown",
   "metadata": {
    "colab_type": "text",
    "id": "fiHCE-QXy_dn"
   },
   "source": [
    "Prozkoumání hodnot ranking pro tento dataset vytvořilo dva sloupce na opačných koncích osy s vetšinovým zastoupením hodnot."
   ]
  },
  {
   "cell_type": "markdown",
   "metadata": {},
   "source": [
    "### < Poznamky oponenta >\n",
    "- Chyby mi prehledne shrnuti datasetu, pocet radku, interval v jakem se pohybuje.\n",
    "- Nektere sloupce nerespektuji projektove konvence\n",
    "    - isredirect - neni camel case\n",
    "    - valid - neobsahuje sloveso na zacatku znacici ze se jedna o boolean type\n",
    "    - is@ - nema to byt spis have@"
   ]
  },
  {
   "cell_type": "code",
   "execution_count": 5,
   "metadata": {},
   "outputs": [
    {
     "data": {
      "text/html": [
       "<div>\n",
       "<style scoped>\n",
       "    .dataframe tbody tr th:only-of-type {\n",
       "        vertical-align: middle;\n",
       "    }\n",
       "\n",
       "    .dataframe tbody tr th {\n",
       "        vertical-align: top;\n",
       "    }\n",
       "\n",
       "    .dataframe thead th {\n",
       "        text-align: right;\n",
       "    }\n",
       "</style>\n",
       "<table border=\"1\" class=\"dataframe\">\n",
       "  <thead>\n",
       "    <tr style=\"text-align: right;\">\n",
       "      <th></th>\n",
       "      <th>ranking</th>\n",
       "      <th>isIp</th>\n",
       "      <th>valid</th>\n",
       "      <th>activeDuration</th>\n",
       "      <th>urlLen</th>\n",
       "      <th>is@</th>\n",
       "      <th>isredirect</th>\n",
       "      <th>haveDash</th>\n",
       "      <th>domainLen</th>\n",
       "      <th>nosOfSubdomain</th>\n",
       "      <th>label</th>\n",
       "      <th>usesHttps</th>\n",
       "    </tr>\n",
       "  </thead>\n",
       "  <tbody>\n",
       "    <tr>\n",
       "      <th>count</th>\n",
       "      <td>9.591000e+04</td>\n",
       "      <td>95910.000000</td>\n",
       "      <td>95910.000000</td>\n",
       "      <td>95910.000000</td>\n",
       "      <td>95910.000000</td>\n",
       "      <td>95910.000000</td>\n",
       "      <td>95910.000000</td>\n",
       "      <td>95910.000000</td>\n",
       "      <td>95910.000000</td>\n",
       "      <td>95910.000000</td>\n",
       "      <td>95910.000000</td>\n",
       "      <td>95910.000000</td>\n",
       "    </tr>\n",
       "    <tr>\n",
       "      <th>mean</th>\n",
       "      <td>6.118618e+06</td>\n",
       "      <td>0.000229</td>\n",
       "      <td>0.573892</td>\n",
       "      <td>3747.876144</td>\n",
       "      <td>69.327442</td>\n",
       "      <td>0.002773</td>\n",
       "      <td>0.007444</td>\n",
       "      <td>0.157856</td>\n",
       "      <td>23.409061</td>\n",
       "      <td>2.387718</td>\n",
       "      <td>0.582984</td>\n",
       "      <td>0.228172</td>\n",
       "    </tr>\n",
       "    <tr>\n",
       "      <th>std</th>\n",
       "      <td>4.835254e+06</td>\n",
       "      <td>0.015144</td>\n",
       "      <td>0.494512</td>\n",
       "      <td>3974.587188</td>\n",
       "      <td>69.740134</td>\n",
       "      <td>0.052591</td>\n",
       "      <td>0.085960</td>\n",
       "      <td>0.364608</td>\n",
       "      <td>25.426852</td>\n",
       "      <td>2.140997</td>\n",
       "      <td>0.493068</td>\n",
       "      <td>0.419656</td>\n",
       "    </tr>\n",
       "    <tr>\n",
       "      <th>min</th>\n",
       "      <td>1.000000e+00</td>\n",
       "      <td>0.000000</td>\n",
       "      <td>0.000000</td>\n",
       "      <td>0.000000</td>\n",
       "      <td>9.000000</td>\n",
       "      <td>0.000000</td>\n",
       "      <td>0.000000</td>\n",
       "      <td>0.000000</td>\n",
       "      <td>3.000000</td>\n",
       "      <td>0.000000</td>\n",
       "      <td>0.000000</td>\n",
       "      <td>0.000000</td>\n",
       "    </tr>\n",
       "    <tr>\n",
       "      <th>25%</th>\n",
       "      <td>3.205600e+04</td>\n",
       "      <td>0.000000</td>\n",
       "      <td>0.000000</td>\n",
       "      <td>0.000000</td>\n",
       "      <td>31.000000</td>\n",
       "      <td>0.000000</td>\n",
       "      <td>0.000000</td>\n",
       "      <td>0.000000</td>\n",
       "      <td>14.000000</td>\n",
       "      <td>2.000000</td>\n",
       "      <td>0.000000</td>\n",
       "      <td>0.000000</td>\n",
       "    </tr>\n",
       "    <tr>\n",
       "      <th>50%</th>\n",
       "      <td>1.000000e+07</td>\n",
       "      <td>0.000000</td>\n",
       "      <td>1.000000</td>\n",
       "      <td>2192.000000</td>\n",
       "      <td>44.000000</td>\n",
       "      <td>0.000000</td>\n",
       "      <td>0.000000</td>\n",
       "      <td>0.000000</td>\n",
       "      <td>17.000000</td>\n",
       "      <td>2.000000</td>\n",
       "      <td>1.000000</td>\n",
       "      <td>0.000000</td>\n",
       "    </tr>\n",
       "    <tr>\n",
       "      <th>75%</th>\n",
       "      <td>1.000000e+07</td>\n",
       "      <td>0.000000</td>\n",
       "      <td>1.000000</td>\n",
       "      <td>7670.000000</td>\n",
       "      <td>78.000000</td>\n",
       "      <td>0.000000</td>\n",
       "      <td>0.000000</td>\n",
       "      <td>0.000000</td>\n",
       "      <td>22.000000</td>\n",
       "      <td>2.000000</td>\n",
       "      <td>1.000000</td>\n",
       "      <td>0.000000</td>\n",
       "    </tr>\n",
       "    <tr>\n",
       "      <th>max</th>\n",
       "      <td>1.000000e+07</td>\n",
       "      <td>1.000000</td>\n",
       "      <td>1.000000</td>\n",
       "      <td>15707.000000</td>\n",
       "      <td>2175.000000</td>\n",
       "      <td>1.000000</td>\n",
       "      <td>1.000000</td>\n",
       "      <td>1.000000</td>\n",
       "      <td>244.000000</td>\n",
       "      <td>34.000000</td>\n",
       "      <td>1.000000</td>\n",
       "      <td>1.000000</td>\n",
       "    </tr>\n",
       "  </tbody>\n",
       "</table>\n",
       "</div>"
      ],
      "text/plain": [
       "            ranking          isIp         valid  activeDuration        urlLen  \\\n",
       "count  9.591000e+04  95910.000000  95910.000000    95910.000000  95910.000000   \n",
       "mean   6.118618e+06      0.000229      0.573892     3747.876144     69.327442   \n",
       "std    4.835254e+06      0.015144      0.494512     3974.587188     69.740134   \n",
       "min    1.000000e+00      0.000000      0.000000        0.000000      9.000000   \n",
       "25%    3.205600e+04      0.000000      0.000000        0.000000     31.000000   \n",
       "50%    1.000000e+07      0.000000      1.000000     2192.000000     44.000000   \n",
       "75%    1.000000e+07      0.000000      1.000000     7670.000000     78.000000   \n",
       "max    1.000000e+07      1.000000      1.000000    15707.000000   2175.000000   \n",
       "\n",
       "                is@    isredirect      haveDash     domainLen  nosOfSubdomain  \\\n",
       "count  95910.000000  95910.000000  95910.000000  95910.000000    95910.000000   \n",
       "mean       0.002773      0.007444      0.157856     23.409061        2.387718   \n",
       "std        0.052591      0.085960      0.364608     25.426852        2.140997   \n",
       "min        0.000000      0.000000      0.000000      3.000000        0.000000   \n",
       "25%        0.000000      0.000000      0.000000     14.000000        2.000000   \n",
       "50%        0.000000      0.000000      0.000000     17.000000        2.000000   \n",
       "75%        0.000000      0.000000      0.000000     22.000000        2.000000   \n",
       "max        1.000000      1.000000      1.000000    244.000000       34.000000   \n",
       "\n",
       "              label     usesHttps  \n",
       "count  95910.000000  95910.000000  \n",
       "mean       0.582984      0.228172  \n",
       "std        0.493068      0.419656  \n",
       "min        0.000000      0.000000  \n",
       "25%        0.000000      0.000000  \n",
       "50%        1.000000      0.000000  \n",
       "75%        1.000000      0.000000  \n",
       "max        1.000000      1.000000  "
      ]
     },
     "execution_count": 5,
     "metadata": {},
     "output_type": "execute_result"
    }
   ],
   "source": [
    "# KOD OPONENTA\n",
    "df.describe()"
   ]
  },
  {
   "cell_type": "code",
   "execution_count": 6,
   "metadata": {
    "colab": {
     "base_uri": "https://localhost:8080/",
     "height": 283
    },
    "colab_type": "code",
    "id": "RbPBAahjy6uf",
    "outputId": "70f26acb-e465-4b16-e868-8c111dbf69a7"
   },
   "outputs": [
    {
     "data": {
      "image/png": "[encoded data removed]",
      "text/plain": [
       "<Figure size 1296x360 with 1 Axes>"
      ]
     },
     "metadata": {
      "needs_background": "light"
     },
     "output_type": "display_data"
    }
   ],
   "source": [
    "plot8 = df.ranking.plot(kind='hist', bins = 30, figsize=(18,5), facecolor = 'green', edgecolor='black')\n",
    "plot8.set_title('Seskupení dle rankingu')\n",
    "plot8.set_ylabel('Frekvence')\n",
    "plot8.set_xlabel('Ranking')\n",
    "def add_value_labels(plot8, spacing=5):\n",
    "    for rect in plot8.patches:\n",
    "        y_value = rect.get_height()\n",
    "        x_value = rect.get_x() + rect.get_width() / 2\n",
    "        space = spacing\n",
    "        va = 'bottom'\n",
    "        if y_value < 0:\n",
    "            space *= -5\n",
    "            va = 'top'\n",
    "        label = \"{:.0f}\".format(y_value)\n",
    "        plot8.annotate(label,(x_value, y_value), xytext=(0, -1),textcoords=\"offset points\", ha='center',va=va)\n",
    "add_value_labels(plot8)"
   ]
  },
  {
   "cell_type": "markdown",
   "metadata": {},
   "source": [
    "### < Poznamky oponenta >\n",
    "- z horniho grafu to bez kontextu vypada, ze je ranking boolean. Dalsi graf, ale odhaluje ze je to obor prirozenych cisel."
   ]
  },
  {
   "cell_type": "markdown",
   "metadata": {
    "colab_type": "text",
    "id": "vv6BmpdYzMQi"
   },
   "source": [
    "Pro další průzkum jsem vzal pouze ranking, který není 0 a který není ani maximální."
   ]
  },
  {
   "cell_type": "markdown",
   "metadata": {},
   "source": [
    "### < Poznamky oponenta >\n",
    "- presto dalsi grafy obsahuji vsechny pozorovani"
   ]
  },
  {
   "cell_type": "code",
   "execution_count": 7,
   "metadata": {
    "colab": {
     "base_uri": "https://localhost:8080/",
     "height": 285
    },
    "colab_type": "code",
    "id": "7Nm-Nk9WzMzR",
    "outputId": "88ac4cc9-c16f-479c-8a10-4dc05c077dc9"
   },
   "outputs": [
    {
     "data": {
      "image/png": "[encoded data removed]",
      "text/plain": [
       "<Figure size 1296x360 with 1 Axes>"
      ]
     },
     "metadata": {
      "needs_background": "light"
     },
     "output_type": "display_data"
    }
   ],
   "source": [
    "values2 = df.activeDuration\n",
    "values2 = values2[values2.between(1,999999)]\n",
    "\n",
    "plot9 = values2.plot(kind='hist', bins = 30, figsize=(18,5), facecolor = 'green', edgecolor='black')\n",
    "plot9.set_title('Seskupení dle rankingu')\n",
    "plot9.set_ylabel('Frekvence')\n",
    "plot9.set_xlabel('Ranking')\n",
    "def add_value_labels(plot9, spacing=5):\n",
    "    for rect in plot9.patches:\n",
    "        y_value = rect.get_height()\n",
    "        x_value = rect.get_x() + rect.get_width() / 2\n",
    "        space = spacing\n",
    "        va = 'bottom'\n",
    "        if y_value < 0:\n",
    "            space *= -5\n",
    "            va = 'top'\n",
    "        label = \"{:.0f}\".format(y_value)\n",
    "        plot9.annotate(label,(x_value, y_value), xytext=(0, -1),textcoords=\"offset points\", ha='center',va=va)\n",
    "add_value_labels(plot9)\n"
   ]
  },
  {
   "cell_type": "markdown",
   "metadata": {
    "colab_type": "text",
    "id": "L5yWmA2rzb8L"
   },
   "source": [
    "Následujících 7 grafů znázorňuje rozdělení booleovských atributů."
   ]
  },
  {
   "cell_type": "code",
   "execution_count": 8,
   "metadata": {
    "colab": {
     "base_uri": "https://localhost:8080/",
     "height": 336
    },
    "colab_type": "code",
    "id": "fSLF5tJuzQlH",
    "outputId": "4be51e51-084e-4b82-c699-ebab167251e2"
   },
   "outputs": [
    {
     "data": {
      "image/png": "[encoded data removed]",
      "text/plain": [
       "<Figure size 360x360 with 1 Axes>"
      ]
     },
     "metadata": {
      "needs_background": "light"
     },
     "output_type": "display_data"
    }
   ],
   "source": [
    "plot10 = df.isIp.value_counts().plot(kind='bar', figsize=(5,5),)\n",
    "plot10.set_title('Porovnání IP')\n",
    "plot10.set_ylabel('Frekvence výskytů')\n",
    "plot10.set_xticklabels(('Není IP', 'IP'),rotation = 0 , rotation_mode=\"anchor\")\n",
    "def add_value_labels(plot10, spacing=5):\n",
    "    for rect in plot10.patches:\n",
    "        y_value = rect.get_height()\n",
    "        x_value = rect.get_x() + rect.get_width() / 2\n",
    "        space = spacing\n",
    "        va = 'bottom'\n",
    "        if y_value < 0:\n",
    "            space *= -5\n",
    "            va = 'top'\n",
    "        label = \"{:.0f}\".format(y_value)\n",
    "        plot10.annotate(label,(x_value, y_value), xytext=(0, -1),textcoords=\"offset points\", ha='center',va=va)                      \n",
    "add_value_labels(plot10)"
   ]
  },
  {
   "cell_type": "code",
   "execution_count": 10,
   "metadata": {
    "colab": {
     "base_uri": "https://localhost:8080/",
     "height": 336
    },
    "colab_type": "code",
    "id": "au3PC1gWzdt-",
    "outputId": "e03cbe19-55d6-465c-93ff-18c8cb050ff9"
   },
   "outputs": [
    {
     "data": {
      "image/png": "[encoded data removed]",
      "text/plain": [
       "<Figure size 360x360 with 1 Axes>"
      ]
     },
     "metadata": {
      "needs_background": "light"
     },
     "output_type": "display_data"
    }
   ],
   "source": [
    "plot11 = df[\"is@\"].value_counts().plot(kind='bar', figsize=(5,5),)\n",
    "plot11.set_title('Porovnání @')\n",
    "plot11.set_ylabel('Frekvence výskytů')\n",
    "plot11.set_xticklabels(('Není @', '@'),rotation = 0 , rotation_mode=\"anchor\")\n",
    "def add_value_labels(plot11, spacing=5):\n",
    "    for rect in plot11.patches:\n",
    "        y_value = rect.get_height()\n",
    "        x_value = rect.get_x() + rect.get_width() / 2\n",
    "        space = spacing\n",
    "        va = 'bottom'\n",
    "        if y_value < 0:\n",
    "            space *= -5\n",
    "            va = 'top'\n",
    "        label = \"{:.0f}\".format(y_value)\n",
    "        plot11.annotate(label,(x_value, y_value), xytext=(0, -1),textcoords=\"offset points\", ha='center',va=va)                      \n",
    "add_value_labels(plot11)"
   ]
  },
  {
   "cell_type": "code",
   "execution_count": 11,
   "metadata": {
    "colab": {
     "base_uri": "https://localhost:8080/",
     "height": 336
    },
    "colab_type": "code",
    "id": "fhiBXJykzd3t",
    "outputId": "a713a00b-8ffa-4081-ac42-d899382c4d3e"
   },
   "outputs": [
    {
     "data": {
      "image/png": "[encoded data removed]",
      "text/plain": [
       "<Figure size 360x360 with 1 Axes>"
      ]
     },
     "metadata": {
      "needs_background": "light"
     },
     "output_type": "display_data"
    }
   ],
   "source": [
    "plot12 = df.isredirect.value_counts().plot(kind='bar', figsize=(5,5),)\n",
    "plot12.set_title('Porovnání redirectu')\n",
    "plot12.set_ylabel('Frekvence výskytů')\n",
    "plot12.set_xticklabels(('Není redirect', 'redirect'),rotation = 0 , rotation_mode=\"anchor\")\n",
    "def add_value_labels(plot12, spacing=5):\n",
    "    for rect in plot12.patches:\n",
    "        y_value = rect.get_height()\n",
    "        x_value = rect.get_x() + rect.get_width() / 2\n",
    "        space = spacing\n",
    "        va = 'bottom'\n",
    "        if y_value < 0:\n",
    "            space *= -5\n",
    "            va = 'top'\n",
    "        label = \"{:.0f}\".format(y_value)\n",
    "        plot12.annotate(label,(x_value, y_value), xytext=(0, -1),textcoords=\"offset points\", ha='center',va=va)                      \n",
    "add_value_labels(plot12)"
   ]
  },
  {
   "cell_type": "code",
   "execution_count": 12,
   "metadata": {
    "colab": {
     "base_uri": "https://localhost:8080/",
     "height": 337
    },
    "colab_type": "code",
    "id": "laF3L16pzd-x",
    "outputId": "565100ca-a760-4825-da86-8159bae2bfa8"
   },
   "outputs": [
    {
     "data": {
      "image/png": "[encoded data removed]",
      "text/plain": [
       "<Figure size 360x360 with 1 Axes>"
      ]
     },
     "metadata": {
      "needs_background": "light"
     },
     "output_type": "display_data"
    }
   ],
   "source": [
    "plot13 = df.haveDash.value_counts().plot(kind='bar', figsize=(5,5),)\n",
    "plot13.set_title('Porovnání výskytu znaku dash')\n",
    "plot13.set_ylabel('Frekvence výskytů')\n",
    "plot13.set_xticklabels(('Bez výskytu', 'S výskytem'),rotation = 0 , rotation_mode=\"anchor\")\n",
    "def add_value_labels(plot13, spacing=5):\n",
    "    for rect in plot13.patches:\n",
    "        y_value = rect.get_height()\n",
    "        x_value = rect.get_x() + rect.get_width() / 2\n",
    "        space = spacing\n",
    "        va = 'bottom'\n",
    "        if y_value < 0:\n",
    "            space *= -5\n",
    "            va = 'top'\n",
    "        label = \"{:.0f}\".format(y_value)\n",
    "        plot13.annotate(label,(x_value, y_value), xytext=(0, -1),textcoords=\"offset points\", ha='center',va=va)                      \n",
    "add_value_labels(plot13)"
   ]
  },
  {
   "cell_type": "code",
   "execution_count": 13,
   "metadata": {
    "colab": {
     "base_uri": "https://localhost:8080/",
     "height": 336
    },
    "colab_type": "code",
    "id": "HmOfgcVKzeGf",
    "outputId": "74ff056d-801a-40c7-bcaa-1793ce403b2a"
   },
   "outputs": [
    {
     "data": {
      "image/png": "[encoded data removed]",
      "text/plain": [
       "<Figure size 360x360 with 1 Axes>"
      ]
     },
     "metadata": {
      "needs_background": "light"
     },
     "output_type": "display_data"
    }
   ],
   "source": [
    "plot14 = df.label.value_counts().plot(kind='bar', figsize=(5,5),)\n",
    "plot14.set_title('Označení stránky')\n",
    "plot14.set_ylabel('Frekvence výskytů')\n",
    "plot14.set_xticklabels(('Phishing link', 'Legitimate'),rotation = 0 , rotation_mode=\"anchor\")\n",
    "def add_value_labels(plot14, spacing=5):\n",
    "    for rect in plot14.patches:\n",
    "        y_value = rect.get_height()\n",
    "        x_value = rect.get_x() + rect.get_width() / 2\n",
    "        space = spacing\n",
    "        va = 'bottom'\n",
    "        if y_value < 0:\n",
    "            space *= -5\n",
    "            va = 'top'\n",
    "        label = \"{:.0f}\".format(y_value)\n",
    "        plot14.annotate(label,(x_value, y_value), xytext=(0, -1),textcoords=\"offset points\", ha='center',va=va)                      \n",
    "add_value_labels(plot14)"
   ]
  },
  {
   "cell_type": "code",
   "execution_count": 14,
   "metadata": {
    "colab": {
     "base_uri": "https://localhost:8080/",
     "height": 336
    },
    "colab_type": "code",
    "id": "EC-8syI-zeNw",
    "outputId": "08221d09-c838-4db6-f6e4-5149567cd3d3"
   },
   "outputs": [
    {
     "data": {
      "image/png": "[encoded data removed]",
      "text/plain": [
       "<Figure size 360x360 with 1 Axes>"
      ]
     },
     "metadata": {
      "needs_background": "light"
     },
     "output_type": "display_data"
    }
   ],
   "source": [
    "plot1 = df.valid.value_counts().plot(kind='bar', figsize=(5,5),)\n",
    "plot1.set_title('Porovnání validity domén')\n",
    "plot1.set_ylabel('Frekvence výskytů')\n",
    "plot1.set_xticklabels(('Validní', 'Nevalidní'),rotation = 0 , rotation_mode=\"anchor\")\n",
    "def add_value_labels(plot1, spacing=5):\n",
    "    for rect in plot1.patches:\n",
    "        y_value = rect.get_height()\n",
    "        x_value = rect.get_x() + rect.get_width() / 2\n",
    "        space = spacing\n",
    "        va = 'bottom'\n",
    "        if y_value < 0:\n",
    "            space *= -5\n",
    "            va = 'top'\n",
    "        label = \"{:.0f}\".format(y_value)\n",
    "        plot1.annotate(label,(x_value, y_value), xytext=(0, -1),textcoords=\"offset points\", ha='center',va=va)                      \n",
    "add_value_labels(plot1)"
   ]
  },
  {
   "cell_type": "code",
   "execution_count": 15,
   "metadata": {
    "colab": {
     "base_uri": "https://localhost:8080/",
     "height": 350
    },
    "colab_type": "code",
    "id": "kNJDwDw8zeVw",
    "outputId": "82e76431-9122-40da-b862-5f219f3a2f8f"
   },
   "outputs": [
    {
     "data": {
      "image/png": "[encoded data removed]",
      "text/plain": [
       "<Figure size 360x360 with 1 Axes>"
      ]
     },
     "metadata": {
      "needs_background": "light"
     },
     "output_type": "display_data"
    }
   ],
   "source": [
    "value_order = [1,0]\n",
    "plot2 = df.usesHttps.value_counts().loc[value_order].plot(kind='bar', figsize=(5,5))\n",
    "plot2.set_title('Porovnání využití HTTPS protokolu')\n",
    "plot2.set_ylabel('Frekvence')\n",
    "plot2.set_xlabel('HTTPS')\n",
    "plot2.set_xticklabels(('Pouziti HTTPS', 'Bez HTTPS'),rotation = 0 , rotation_mode=\"anchor\")\n",
    "def add_value_labels(plot2, spacing=5):\n",
    "    for rect in plot2.patches:\n",
    "        y_value = rect.get_height()\n",
    "        x_value = rect.get_x() + rect.get_width() / 2\n",
    "        space = spacing\n",
    "        va = 'bottom'\n",
    "        if y_value < 0:\n",
    "            space *= -5\n",
    "            va = 'top'\n",
    "        label = \"{:.0f}\".format(y_value)\n",
    "        plot2.annotate(label,(x_value, y_value), xytext=(0, -1),textcoords=\"offset points\", ha='center',va=va)                      \n",
    "add_value_labels(plot2)"
   ]
  },
  {
   "cell_type": "markdown",
   "metadata": {
    "colab_type": "text",
    "id": "2BsQXExc0vCk"
   },
   "source": [
    "Vizualizace rozdělení durace pomocí histogramu na ekvidistantní intervaly nám ukazuje, že významná část záznamů je v prvním koši. Zároveň se objevují outlier values ve vyšších tisících durace."
   ]
  },
  {
   "cell_type": "code",
   "execution_count": 16,
   "metadata": {
    "colab": {
     "base_uri": "https://localhost:8080/",
     "height": 283
    },
    "colab_type": "code",
    "id": "PoSRGcj90vO8",
    "outputId": "fbb7df1e-942e-485a-90d0-d60e0c7dc4e3"
   },
   "outputs": [
    {
     "data": {
      "image/png": "[encoded data removed]",
      "text/plain": [
       "<Figure size 1296x360 with 1 Axes>"
      ]
     },
     "metadata": {
      "needs_background": "light"
     },
     "output_type": "display_data"
    }
   ],
   "source": [
    "plot3 = df.activeDuration.plot(kind='hist', bins = 30, figsize=(18,5), facecolor = 'green', edgecolor='black')\n",
    "plot3.set_title('Seskupení dle doby durace')\n",
    "plot3.set_ylabel('Frekvence')\n",
    "plot3.set_xlabel('Doba durace')\n",
    "def add_value_labels(plot3, spacing=5):\n",
    "    for rect in plot3.patches:\n",
    "        y_value = rect.get_height()\n",
    "        x_value = rect.get_x() + rect.get_width() / 2\n",
    "        space = spacing\n",
    "        va = 'bottom'\n",
    "        if y_value < 0:\n",
    "            space *= -5\n",
    "            va = 'top'\n",
    "        label = \"{:.0f}\".format(y_value)\n",
    "        plot3.annotate(label,(x_value, y_value), xytext=(0, -1),textcoords=\"offset points\", ha='center',va=va)\n",
    "add_value_labels(plot3)"
   ]
  },
  {
   "cell_type": "markdown",
   "metadata": {
    "colab_type": "text",
    "id": "0eE7nxL20zg4"
   },
   "source": [
    "Očištěním o hodnoty 0 (které tvořily převážnou část prvního koše) a hodnoty nad 10000, získáme lepší přehled o rozložení durace mezi jednotlivé záznamy."
   ]
  },
  {
   "cell_type": "code",
   "execution_count": 17,
   "metadata": {
    "colab": {
     "base_uri": "https://localhost:8080/",
     "height": 285
    },
    "colab_type": "code",
    "id": "nNP-jbG40zqA",
    "outputId": "29d50cfd-703a-49f0-c218-3a9c2360781e"
   },
   "outputs": [
    {
     "data": {
      "image/png": "[encoded data removed]",
      "text/plain": [
       "<Figure size 1296x360 with 1 Axes>"
      ]
     },
     "metadata": {
      "needs_background": "light"
     },
     "output_type": "display_data"
    }
   ],
   "source": [
    "values0 = df.activeDuration\n",
    "values0 = values0[values0.between(1,10000)]\n",
    "\n",
    "plot4 = values0.plot(kind='hist', bins = 30, figsize=(18,5), facecolor = 'green', edgecolor='black' )\n",
    "plot4.set_title('Seskupení dle doby durace do 1 - 10000')\n",
    "plot4.set_ylabel('Frekvence')\n",
    "plot4.set_xlabel('Doba durace')\n",
    "\n",
    "def add_value_labels(plot4, spacing=5):\n",
    "    for rect in plot4.patches:\n",
    "        y_value = rect.get_height()\n",
    "        x_value = rect.get_x() + rect.get_width() / 2\n",
    "        space = spacing\n",
    "        va = 'bottom'\n",
    "        if y_value < 0:\n",
    "            space *= -1\n",
    "            va = 'top'\n",
    "        label = \"{:.0f}\".format(y_value)\n",
    "        plot4.annotate(label,(x_value, y_value), xytext=(0, -1),textcoords=\"offset points\", ha='center',va=va)\n",
    "add_value_labels(plot4)"
   ]
  },
  {
   "cell_type": "markdown",
   "metadata": {
    "colab_type": "text",
    "id": "FwOb40bP1ACO"
   },
   "source": [
    "Následující histogram seskupuje záznamy dle délky URL adresy. Zde vidíme zase významný první koš stejně jako outliery, kteří ubírají na vypovídací hodnotě celému histogramu."
   ]
  },
  {
   "cell_type": "code",
   "execution_count": 18,
   "metadata": {
    "colab": {
     "base_uri": "https://localhost:8080/",
     "height": 333
    },
    "colab_type": "code",
    "id": "cYe63JoS1AeT",
    "outputId": "3c01ab95-9695-4d5a-938c-5ee154897fbf"
   },
   "outputs": [
    {
     "data": {
      "image/png": "[encoded data removed]",
      "text/plain": [
       "<Figure size 1080x360 with 1 Axes>"
      ]
     },
     "metadata": {
      "needs_background": "light"
     },
     "output_type": "display_data"
    }
   ],
   "source": [
    "plot5 = df.urlLen.plot(kind='hist', bins = 20, figsize=(15,5), facecolor = 'green', edgecolor='black')\n",
    "plot5.set_title('Seskupení dle délky URL')\n",
    "plot5.set_ylabel('Frekvence')\n",
    "plot5.set_xlabel('Délka URL')\n",
    "def add_value_labels(plot5, spacing=5):\n",
    "    for rect in plot5.patches:\n",
    "        y_value = rect.get_height()\n",
    "        x_value = rect.get_x() + rect.get_width() / 2\n",
    "        space = spacing\n",
    "        va = 'bottom'\n",
    "        if y_value < 0:\n",
    "            space *= -5\n",
    "            va = 'top'\n",
    "        label = \"{:.0f}\".format(y_value)\n",
    "        plot5.annotate(label,(x_value, y_value), xytext=(0, -1),textcoords=\"offset points\", ha='center',va=va)\n",
    "add_value_labels(plot5)"
   ]
  },
  {
   "cell_type": "markdown",
   "metadata": {},
   "source": [
    "### < Poznamky oponenta >\n",
    "- zde je vhodne zvolit jiny typ grafu, treba boxplot, ktery prehledne zobrazi outliers."
   ]
  },
  {
   "cell_type": "code",
   "execution_count": 26,
   "metadata": {},
   "outputs": [
    {
     "data": {
      "image/png": "[encoded data removed]",
      "text/plain": [
       "<Figure size 1080x360 with 1 Axes>"
      ]
     },
     "metadata": {
      "needs_background": "light"
     },
     "output_type": "display_data"
    }
   ],
   "source": [
    "# KOD OPONENTA\n",
    "plot5 = df.urlLen.plot(kind='box', vert=False,figsize=(15,5))"
   ]
  },
  {
   "cell_type": "markdown",
   "metadata": {
    "colab_type": "text",
    "id": "m-IoSdBN1Hoe"
   },
   "source": [
    "Pokud se zaměříme pouze na první část předchozího histagramu (hodnoty 0 - 200), získáme mnohem lepší přehled o rozložení délky URL v našem datasetu."
   ]
  },
  {
   "cell_type": "code",
   "execution_count": 27,
   "metadata": {},
   "outputs": [
    {
     "data": {
      "image/png": "[encoded data removed]",
      "text/plain": [
       "<Figure size 1080x360 with 1 Axes>"
      ]
     },
     "metadata": {
      "needs_background": "light"
     },
     "output_type": "display_data"
    }
   ],
   "source": [
    "values1 = df.urlLen\n",
    "values1 = values1[values1.between(0,200)]\n",
    "\n",
    "plot6 = values1.plot(kind='hist', bins = 20, figsize=(15,5), facecolor = 'green', edgecolor='black')\n",
    "plot6.set_title('Seskupení dle délky URL 0 - 200 znaků')\n",
    "plot6.set_ylabel('Frekvence')\n",
    "plot6.set_xlabel('Délka URL')\n",
    "def add_value_labels(plot6, spacing=5):\n",
    "    for rect in plot6.patches:\n",
    "        y_value = rect.get_height()\n",
    "        x_value = rect.get_x() + rect.get_width() / 2\n",
    "        space = spacing\n",
    "        va = 'bottom'\n",
    "        if y_value < 0:\n",
    "            space *= -5\n",
    "            va = 'top'\n",
    "        label = \"{:.0f}\".format(y_value)\n",
    "        plot6.annotate(label,(x_value, y_value), xytext=(0, -1),textcoords=\"offset points\", ha='center',va=va)\n",
    "add_value_labels(plot6)"
   ]
  },
  {
   "cell_type": "markdown",
   "metadata": {
    "colab_type": "text",
    "id": "Se4zZ4_j1bwV"
   },
   "source": [
    "Zajímavý je vztah délky domény a URL, který vyjadřuje následující graf. Tento graf opět zkresluje významný outlier, proto v dalším kroku omezím hodnotu pouze na délku URL do 500 znaků."
   ]
  },
  {
   "cell_type": "code",
   "execution_count": 28,
   "metadata": {
    "colab": {
     "base_uri": "https://localhost:8080/",
     "height": 295
    },
    "colab_type": "code",
    "id": "J2mAAxqb1b6H",
    "outputId": "456ade13-2481-4810-bc4b-dd672461509f"
   },
   "outputs": [
    {
     "data": {
      "image/png": "[encoded data removed]",
      "text/plain": [
       "<Figure size 432x288 with 1 Axes>"
      ]
     },
     "metadata": {
      "needs_background": "light"
     },
     "output_type": "display_data"
    }
   ],
   "source": [
    "plt.scatter(df.domainLen, df.urlLen, s = 3, edgecolor='black', linewidth=0.2)\n",
    "plt.xlabel('Domain Length')\n",
    "plt.ylabel('URL Length')\n",
    "plt.title('Domain x URL length')\n",
    "plt.show()"
   ]
  },
  {
   "cell_type": "markdown",
   "metadata": {
    "colab_type": "text",
    "id": "oNUSMcT31iBJ"
   },
   "source": [
    "Odstranění outlieru s hodnotou délky URL nad 500 znaků. Nyní vidíme přesněji jak se chová vztah délky URL a domény."
   ]
  },
  {
   "cell_type": "code",
   "execution_count": 30,
   "metadata": {
    "colab": {
     "base_uri": "https://localhost:8080/",
     "height": 296
    },
    "colab_type": "code",
    "id": "bvnjzvLR1iKm",
    "outputId": "da56b719-5453-4b84-d8aa-e4a9d2c6f700"
   },
   "outputs": [
    {
     "data": {
      "image/png": "[encoded data removed]",
      "text/plain": [
       "<Figure size 432x288 with 1 Axes>"
      ]
     },
     "metadata": {
      "needs_background": "light"
     },
     "output_type": "display_data"
    }
   ],
   "source": [
    "df.drop(df.index[df['urlLen'] > 500], inplace = True)\n",
    "plt.scatter(df.domainLen, df.urlLen, s = 3, edgecolor='black', linewidth=0.2)\n",
    "plt.xlabel('Délka domény ')\n",
    "plt.ylabel('Délka URL')\n",
    "plt.title('Domain x URL')\n",
    "plt.show()"
   ]
  },
  {
   "cell_type": "markdown",
   "metadata": {
    "colab_type": "text",
    "id": "0vgbHlvn1moh"
   },
   "source": [
    "Pro lepší přehled, jak se liší délka domény a URL je vhodnější zobrazit pouze rozdíl těchto dvou délek. Porovnání rozdílu mezi délkou domény a délkou URL a následné vyrovnání dle výše rozdílu. Zároveň stále nebereme v potaz vyčnívající hodnoty."
   ]
  },
  {
   "cell_type": "code",
   "execution_count": 31,
   "metadata": {
    "colab": {
     "base_uri": "https://localhost:8080/",
     "height": 295
    },
    "colab_type": "code",
    "id": "UkbHjVxX1mxN",
    "outputId": "ef2bd900-1dcc-4949-f970-f3015795ca29"
   },
   "outputs": [
    {
     "data": {
      "image/png": "[encoded data removed]",
      "text/plain": [
       "<Figure size 432x288 with 1 Axes>"
      ]
     },
     "metadata": {
      "needs_background": "light"
     },
     "output_type": "display_data"
    }
   ],
   "source": [
    "df.drop(df.index[df['urlLen'] > 1200], inplace = True)\n",
    "len_diff = df.urlLen-df.domainLen\n",
    "plt.scatter(len_diff.index, np.sort(len_diff), s = 3, edgecolor='black', linewidth=0.2)\n",
    "plt.xlabel('index')\n",
    "plt.title('Rozdíl délky URL a domény')\n",
    "plt.show()"
   ]
  },
  {
   "cell_type": "markdown",
   "metadata": {
    "colab_type": "text",
    "id": "IooWwPtp1rad"
   },
   "source": [
    "Validita a durace má přímý vztah, jak je vidět z grafu, pro hodnotu validity 0 je hodnota durace vždy 0. Pro hodnoty validity 1 je hodnota durace větší než 0."
   ]
  },
  {
   "cell_type": "code",
   "execution_count": 32,
   "metadata": {
    "colab": {
     "base_uri": "https://localhost:8080/",
     "height": 295
    },
    "colab_type": "code",
    "id": "3n2v4p4e1rkY",
    "outputId": "709081c2-f70a-488d-f5fa-c8d009cf0361"
   },
   "outputs": [
    {
     "data": {
      "image/png": "[encoded data removed]",
      "text/plain": [
       "<Figure size 432x288 with 1 Axes>"
      ]
     },
     "metadata": {
      "needs_background": "light"
     },
     "output_type": "display_data"
    }
   ],
   "source": [
    "plt.scatter(df.valid, df.activeDuration, s = 25, edgecolor='black', linewidth=0.2)\n",
    "plt.xlabel('Validita')\n",
    "plt.ylabel('Durace')\n",
    "plt.title('Vztah durace a validity')\n",
    "plt.xticks(np.arange(0, 2, 1.0))\n",
    "plt.show()"
   ]
  },
  {
   "cell_type": "markdown",
   "metadata": {
    "colab_type": "text",
    "id": "Nwdlmf521xQg"
   },
   "source": [
    "Následující graf ukazuje kolik mají domény subdomén a frekvenci výskytů jednotlivých variant v našem datasetu."
   ]
  },
  {
   "cell_type": "code",
   "execution_count": 33,
   "metadata": {
    "colab": {
     "base_uri": "https://localhost:8080/",
     "height": 352
    },
    "colab_type": "code",
    "id": "QjE7vQaU1xbg",
    "outputId": "12e0ae56-4cea-42da-b2d6-530fd32d18a5"
   },
   "outputs": [
    {
     "data": {
      "image/png": "[encoded data removed]",
      "text/plain": [
       "<Figure size 360x360 with 1 Axes>"
      ]
     },
     "metadata": {
      "needs_background": "light"
     },
     "output_type": "display_data"
    }
   ],
   "source": [
    "plot7 = df.nosOfSubdomain.value_counts().sort_index().plot(kind='bar', figsize=(5,5),)\n",
    "plot7.set_title('Subdomény')\n",
    "plot7.set_ylabel('Frekvence výskytů')\n",
    "plot7.set_xlabel('Počet subdomén')\n",
    "\n",
    "def add_value_labels(plot7, spacing=5):\n",
    "    for rect in plot7.patches:\n",
    "        y_value = rect.get_height()\n",
    "        x_value = rect.get_x() + rect.get_width() / 2\n",
    "        space = spacing\n",
    "        va = 'bottom'\n",
    "        if y_value < 0:\n",
    "            space *= -5\n",
    "            va = 'top'\n",
    "        label = \"{:.0f}\".format(y_value)\n",
    "        plot7.annotate(label,(x_value, y_value), xytext=(0, -1),textcoords=\"offset points\", ha='center',va=va, rotation = 45)                      \n",
    "add_value_labels(plot7)"
   ]
  },
  {
   "cell_type": "markdown",
   "metadata": {
    "colab_type": "text",
    "id": "A_H7-XCs1net"
   },
   "source": [
    "# Předzpracování dat\n",
    "\n",
    "Třída **WebsitesContainer** zapouzdřuje data webových stránek. Umožňuje, aby jednotlivé vytvářené modely pracovaly s různě velkými a různě předzpracovanými daty. Předzpracování dat probíhá v konstruktoru této třídy. Předzpracování spočívá v:\n",
    "\n",
    "**odvození nových sloupců**\n",
    "\n",
    "Z původního datasetu budou ze sloupce *domain* odvozeny tyto sloupce:\n",
    "\n",
    "|Název sloupce|Popis|\n",
    "|:---|:---|\n",
    "|**isTinyUrl**|zda je použita tiny url|\n",
    "|**topLevelDomain**|samotná top level doména|\n",
    "|**nonStandardPort**|nestandardnost portu|\n",
    "|**containsUnderline**|dděleni slov v doméně symbolem '_'|\n",
    "|**containsPort**|uvedení portu v adrese |\n",
    "|**containsWWW**|výskyt 'www' subdomény|\n",
    "|**containsPaypal**|výskyt slova *paypal* v adrese|\n",
    "|**containsBank**|výskyt slova *bank* v adrese|\n",
    "|**containsSecure**|výskyt slova *secure* v adrese|\n",
    "|**paramsCount**|počet query parametrů|\n",
    "|**usesHttps**|zda je možné navázat spojení přes HTTPS|\n",
    "\n",
    "Odvození sloupců závisí na parametru *derive* v konstruktoru. Výchozí hodnota je **True**.\n",
    "\n",
    "**použítí externích metrik**\n",
    "\n",
    "Zajímavé by bylo zjistit, jak si modely vedou, pokud mohou vycházet pouze se samostatnou hodnotou url adresy a nespoléhat na metriky třetích stran. Použíti externích metrik, tedy sloupců *ranking*, *activeDuration* a *valid* závisí v konstruktoru na paramteru *use_metrics*. Výchozí hodnota je **True**.\n",
    "\n",
    "**naškálování dat**\n",
    "\n",
    "Obory hodnot se napříč slopci velmi liší. Proto může pro vytvoření lepšího modelu pomoct hodnoty ve sloupcích naškálovat. Hodnoty ve všech sloupcích dosahují pouze kladných hodnot. Pro škálování byla použita třída MaxAbsScaler z balíčku **sklearn.preprocessing**. Škálování je volitelné, použití je ovlivňuje parametrem *scale*, výchozí hodnota je **True**.\n",
    "\n",
    "**odstranění *outlierů***\n",
    "\n",
    "Ve sloupcí *urlLen*, *activeDuration* a odvozeném sloupci *paramsCount* se vyskytují hodnoty, které se značně  oddalují mediánu těchto sloupců. Může pomoct tyto záznamy odstranit.\n",
    "\n",
    "**vytvořění *dummy variables* pro nominální sloupce**\n",
    "\n",
    "Jediný sloupec s nominálními hodnotami, který bude použit pro tvorbu modelu je sloupec *topLevelDomain*. Pro ten budou vytvořeny dummy sloupce s pomocí knihovny pandas a funkcí *get_dummies*.\n",
    "\n",
    "Pro tvorbu modelu samozřejmě nebude použit sloupec *domain*. Modely s tímto sloupcem by byly pokaždé přeučené. V konstruktoru je možné určit velikost dat použitých z původního datasetu parametrem *n*. Ten je volitelný, při neuvedení tohoto parametru jsou použita všechna data. \n",
    "\n",
    "Podle *n* se vyřízne polovina z *n* validních stránek a polovina podvodných stránek. V původním datasetu je podvodných stránek víc, takže při větších *n* proběhne *oversampling* technikou **SMOTE**.\n",
    "\n",
    "Dostupné metody třídy jsou:\n",
    "* **get_data** -> vrací celý soubor předzpracovaných dat: tuple vysvětlujících proměnných a cílové proměnné\n",
    "* **split_data** -> rozloží data na trénovací a testovací podle zadané *test_size*\n",
    "* **get_feature_names** -> pro vizualizaci například rozhodovacím stromem vrací názvy použitých sloupců\n",
    "\n",
    "K tomu je dostupný statický atribut **class_names** s labely cílových proměnných."
   ]
  },
  {
   "cell_type": "code",
   "execution_count": null,
   "metadata": {
    "colab": {},
    "colab_type": "code",
    "id": "ieM4lrwf1qUL"
   },
   "outputs": [],
   "source": [
    "class WebsitesContainer:\n",
    "    \n",
    "    class_names = ['ok', 'malicious']\n",
    "    \n",
    "    def __init__(self, n = 0,use_metrics=True, scale=True,derive=True,remove_outliers=True):\n",
    "        self.__df = df.copy()\n",
    "        if derive:\n",
    "            self.__derive_all()\n",
    "        if remove_outliers:\n",
    "            self.__remove_outliers()\n",
    "        if n == 0:\n",
    "            n = self.__df.shape[0]  \n",
    "        ok = self.__df[self.__df['label'] == 0].iloc[:int(n/2)]\n",
    "        malicious = self.__df[self.__df['label'] == 1].iloc[:int(n/2)]\n",
    "        self.__df = pd.concat([ok,malicious])\n",
    "        if not use_metrics:\n",
    "            self.__df = self.__df.drop(['ranking', 'activeDuration', 'valid'], axis='columns')\n",
    "        self.__df = self.__df.drop(['domain'], axis='columns')\n",
    "        self.__df = pd.get_dummies(self.__df, drop_first=True)\n",
    "        self.__df_X = self.__df.drop(['label'], axis='columns')\n",
    "        self.X = self.__df_X.values\n",
    "        self.__df_y = self.__df['label']\n",
    "        self.y = self.__df_y.values\n",
    "        if scale:\n",
    "            scaler = MaxAbsScaler()\n",
    "            self.X = scaler.fit_transform(self.X)\n",
    "        if ok.shape[0] != malicious.shape[0]:\n",
    "            smote = SMOTE(random_state=0,n_jobs=-1)\n",
    "            self.X, self.y = smote.fit_sample(self.X, self.y)\n",
    "        self.feature_names = self.__df_X.columns.values\n",
    "            \n",
    "        \n",
    "    def get_data(self):\n",
    "        return (self.X, self.y)\n",
    "        \n",
    "    def split_data(self, test_size = 0.3):\n",
    "        return train_test_split(self.X,self.y,test_size=test_size, stratify=self.y, random_state=0)\n",
    "    \n",
    "    def get_feature_names(self):\n",
    "        return self.__df_X.columns.values\n",
    "    \n",
    "    def __remove_outliers(self):\n",
    "        urlLen_high = self.__df[\"urlLen\"].quantile(0.97)\n",
    "        domainLen_high = self.__df[\"domainLen\"].quantile(0.95)\n",
    "        paramsCount_high = self.__df[\"paramsCount\"].quantile(0.998)\n",
    "        self.__df = self.__df[(self.__df[\"domainLen\"] < domainLen_high)]\n",
    "        self.__df = self.__df[(self.__df[\"urlLen\"] < urlLen_high)]\n",
    "        self.__df = self.__df[(self.__df[\"paramsCount\"] < paramsCount_high)]\n",
    "    \n",
    "    def __derive_all(self):\n",
    "        self.__apply('domain','isTinyUrl',self.__is_tiny_url)\n",
    "        self.__apply('domain','topLevelDomain',self.__top_level_domain)\n",
    "        self.__apply('domain','nonStandardPort',self.__non_standard_port)\n",
    "        self.__apply('domain','containsUnderline',self.__matches_regex,[\"\\w+_\\w+\"])\n",
    "        self.__apply('domain','containsPort',self.__matches_regex,[\":\\d+\"])\n",
    "        self.__apply('domain','containsWWW',self.__matches_regex,[\"www\\.\"])\n",
    "        self.__apply('domain','containsPaypal',self.__matches_regex,[\"paypal\"])\n",
    "        self.__apply('domain','containsBank',self.__matches_regex,[\"bank\"])\n",
    "        self.__apply('domain','containsSecure',self.__matches_regex,[\"secure\"])\n",
    "        self.__apply('domain','paramsCount',self.__query_params_count)        \n",
    "    \n",
    "    def __apply(self,column_name,new_column_name,function,args = []):\n",
    "        self.__df[new_column_name] = self.__df[column_name].apply(function, args=args)\n",
    "    \n",
    "    def __matches_regex(self,string, regex):\n",
    "        return int(len(re.findall(pattern=regex,string=string)) > 0)\n",
    "\n",
    "    def __find_first(self,string, regex):\n",
    "        arr = re.findall(pattern=regex,string=string)\n",
    "        if len(arr) > 0:\n",
    "            return arr[0]\n",
    "\n",
    "    def __top_level_domain(self,domain):\n",
    "        return self.__find_first(domain,\"(?<=\\.)\\w+(?=\\?|$|/)\")\n",
    "\n",
    "    def __non_standard_port(self,domain):\n",
    "        port_string = self.__find_first(domain,\"(?<=\\:)\\d+\")\n",
    "        if port_string is not None:\n",
    "            port = int(self.__find_first(domain,\"(?<=\\:)\\d+\"))\n",
    "            return int(not (port == 443 or port == 80))\n",
    "        else:\n",
    "            return 0  \n",
    "\n",
    "    def __is_tiny_url(self,domain):\n",
    "        for tinyurl in tinyurls['domain']:\n",
    "            if self.__matches_regex(domain,tinyurl):\n",
    "                return 1\n",
    "        return 0    \n",
    "\n",
    "    def __query_params_count(self,domain):\n",
    "        return len(re.findall(pattern='(?<=&|\\?)\\w+(?=\\=)',string=domain))\n",
    "\n",
    "    def __uses_https(self,domain):\n",
    "        url = 'https://' + domain\n",
    "        try:\n",
    "            r = requests.get(url,timeout=5)\n",
    "            r.raise_for_status()\n",
    "        except requests.exceptions.RequestException as err:\n",
    "            return 0\n",
    "        return 1"
   ]
  },
  {
   "cell_type": "markdown",
   "metadata": {
    "colab_type": "text",
    "id": "95zb3WYf1vrc"
   },
   "source": [
    "# Tvorba modelů\n",
    "\n",
    "Pro klasifikaci webových stránek budou použity tyto algoritmy:\n",
    "\n",
    "**s vysvětlitelným modelem**\n",
    "\n",
    "* Logistická regrese\n",
    "* Rozhodovací strom\n",
    "\n",
    "**s nevysvětlitelným modelem**\n",
    "\n",
    "* Multilayer Perceptron\n",
    "* Random forests\n",
    "\n",
    "Použití každého algoritmu bude sestávat z těchto kroků\n",
    "\n",
    "1. vytvoření instance předzpracovaných dat a jejich rozdělení na trénovací a testovací\n",
    "2. vytvoření modelu s výchozími hyperparametry\n",
    "3. evaluace modelu (s interpretací pro vysvětlitelné modely)\n",
    "4. hledání optimálních hyperparametrů s křížovou validací (s použitím GridSearchCV dochází k přetrénování nalezeného modelu nad celými trénovacími daty)\n",
    "6. evaluace přetrénovaného modelu"
   ]
  },
  {
   "cell_type": "markdown",
   "metadata": {
    "colab_type": "text",
    "id": "TL0qDxfz1xwd"
   },
   "source": [
    "## Pomocné funkce\n",
    "\n",
    "Pomocné funkce jsou v dalších buňkách použity pro vizualizaci a evaluaci vytvořených modelů.\n",
    "\n",
    "**evaluate**\n",
    "\n",
    "Tato funkce vykreslí pro zadaný estimator a validační data křivku ROC a matici záměn. Tyto dva grafy jsme zvolili, jednak protože se jedná o binární klasifikační úlohu a matice zájem není příliš rozměrná na to, aby se dala jednoduše číst a jednak protože ROC křivku si vynucují [požadavky](http://4iz565.gitlab.io/requirements/) na práci. Nad ROC křivkou je vždy uvedena i plocha pod křivkou (AUC).\n",
    "\n",
    "**feature_importances**\n",
    "\n",
    "Funkce zobrazí porovnání důležitostí použitých proměnných pro model rozhodovacího stromu. Pro lepší čitelnost jsou zobrazeny pouze vlastnosti, které přesáhnou minimální mez *0.001*. Hodnoty jsou zobrazeny jako horizontální sloupcový graf.\n",
    "\n",
    "**logistic_coefs**\n",
    "\n",
    "Funkce zobrazí rozsah koeficientů proměnných zadaného modelu logistické regrese a je možné vyčíst, jaká proměnná má jak velký (a v jakém směru) vliv na šanci pro klasifikaci url adresy jako podvodné.\n",
    "\n",
    "**visualise_tree**\n",
    "\n",
    "Funkce visualisuje model rozhodovacího stromu jako binární strom. Uzly s odlišnými převažujícími cílovými proměnnými jsou barevně odlišeny (podvodné jako modré, bezpečné jako oranžové uzly)\n",
    "\n",
    "**show_params**\n",
    "\n",
    "Pro GridSearchCV a LogisticRegressionCV objekty vytiskne vybrané nejlepší hyperparametry modelu.\n",
    "\n",
    "**compare_estimators**\n",
    "\n",
    "Slouží pro porovnání vytvořených modelů."
   ]
  },
  {
   "cell_type": "code",
   "execution_count": null,
   "metadata": {
    "colab": {},
    "colab_type": "code",
    "id": "BmdG8eCJ10kb"
   },
   "outputs": [],
   "source": [
    "def evaluate(estimator, X_test, y_test):\n",
    "    y_pred_proba = estimator.predict_proba(X_test)[:,1]\n",
    "    fpr, tpr, _ = roc_curve(y_test, y_pred_proba)\n",
    "    line  = [0,1]\n",
    "    auc_score = auc(fpr, tpr)\n",
    "    fig,a =  plt.subplots(1,2, figsize=(14,7))\n",
    "    a[0].plot(fpr, tpr, color='blue',label=\"ROC\")\n",
    "    a[0].plot(line, color='green', label=\"náhodný výběr\", linestyle='dashed', marker='o')\n",
    "    a[0].legend(loc='lower right')\n",
    "    a[0].set_title(\"ROC Křivka (AUC = %0.4f)\" % auc_score)\n",
    "    a[0].set_xlabel(\"1 - P\")\n",
    "    a[0].set_ylabel(\"R\")\n",
    "    plot_confusion_matrix(estimator,\n",
    "                          X_test,\n",
    "                          y_test,\n",
    "                          cmap='Blues',\n",
    "                          display_labels=['ok', 'mal'],\n",
    "                          values_format=\".0f\",ax=a[1])\n",
    "    accuracy = estimator.score(X_test, y_test)\n",
    "    a[1].set_title(\"Matice záměn (Přesnost: {})\".format(round(accuracy,4))) # (přesnost= #)\n",
    "    a[1].set_xlabel(\"Predikovaná hodnota\")\n",
    "    a[1].set_ylabel(\"Skutečná hodnota\")\n",
    "    plt.show()\n",
    "\n",
    "def compare_estimators(estimators):\n",
    "    fig,a =  plt.subplots(1,2, figsize=(14,7))\n",
    "    line  = [0,1]\n",
    "    a[0].plot(line, color='green', label=\"náhodný výběr\", linestyle='dashed', marker='o')\n",
    "    a[0].set_title(\"ROC Křivky\")\n",
    "    a[0].set_xlabel(\"1 - P\")\n",
    "    a[0].set_ylabel(\"R\")\n",
    "    table_data = []\n",
    "    for estimator in estimators:\n",
    "        model = estimator[0]\n",
    "        X_test = estimator[1]\n",
    "        y_test = estimator[2]\n",
    "        name = model.__class__.__name__\n",
    "        accuracy = model.score(X_test, y_test)\n",
    "        table_data.append([name, \"{}\".format(round(accuracy,3))])\n",
    "        y_pred = model.predict_proba(X_test)[:,1]\n",
    "        fpr, tpr, _ = roc_curve(y_test, y_pred)\n",
    "        auc_score = auc(fpr, tpr)\n",
    "        a[0].plot(fpr, tpr,label=name+\" (AUC = %0.4f)\" % auc_score)\n",
    "    a[0].legend(loc='lower right')\n",
    "    table_data.sort(key = lambda x : x[1], reverse = True)\n",
    "    a[1].table(cellText=table_data, loc='center')\n",
    "    a[1].axis('off')\n",
    "    a[1].set_title(\"Přesnost modelů\")\n",
    "    plt.show()\n",
    "\n",
    "def feature_importances(tree, container):\n",
    "    feature_names = []\n",
    "    importances = []\n",
    "    all_feature_names = container.get_feature_names()\n",
    "    all_importances = tree.feature_importances_\n",
    "    for k, v in enumerate(all_importances):\n",
    "        if v > 0.001:\n",
    "            feature_names.append(all_feature_names[k])\n",
    "            importances.append(all_importances[k])\n",
    "            \n",
    "    plt.figure(figsize=(10,7))\n",
    "    plt.barh(range(len(feature_names)), importances, align='center')\n",
    "    plt.yticks(np.arange(len(feature_names)), feature_names)\n",
    "    plt.xlabel(\"Důležitost sloupce\")\n",
    "    plt.ylabel(\"Sloupce\")\n",
    "    plt.show()\n",
    "    \n",
    "def logistic_coefs(logreg, container):\n",
    "    feature_names = []\n",
    "    coefs = []\n",
    "    all_feature_names = container.get_feature_names()\n",
    "    all_coefs = logreg.coef_.T\n",
    "    for k, v in enumerate(all_coefs):\n",
    "        if abs(v) > 0.2:\n",
    "            feature_names.append(all_feature_names[k])\n",
    "            coefs.append(all_coefs[k])\n",
    "    \n",
    "    n_features = len(feature_names)\n",
    "    plt.figure(figsize=(16,7))\n",
    "    plt.plot(coefs, 'o')\n",
    "    plt.xticks(range(n_features), feature_names, rotation=90)\n",
    "    plt.hlines(0, 0, n_features)\n",
    "    limit =  max(abs(logreg.coef_.T)) + 1\n",
    "    plt.ylim(-limit, limit)\n",
    "    plt.xlabel(\"Proměnná\")\n",
    "    plt.ylabel(\"Koeficient\")\n",
    "    plt.show()\n",
    "    \n",
    "def visualise_tree(tree, container):\n",
    "    feature_names = container.get_feature_names()\n",
    "    plt.figure(figsize=(10, 3), dpi=500, facecolor='w', edgecolor='k')\n",
    "    plot_tree(tree,\n",
    "              feature_names=feature_names,\n",
    "              class_names=WebsitesContainer.class_names,\n",
    "              proportion=True, \n",
    "              filled=True)\n",
    "    plt.show()\n",
    "    \n",
    "def show_params(estimator):\n",
    "    print(\"Parametry:\\n\")\n",
    "    if hasattr(estimator, 'best_params_'):\n",
    "        for i in estimator.best_params_.items():\n",
    "            print(\"{}:\\t{}\".format(i[0],i[1]))\n",
    "    elif hasattr(estimator, 'C_'):\n",
    "        print(\"C:\\t{}\".format(estimator.C_[0]))"
   ]
  },
  {
   "cell_type": "markdown",
   "metadata": {
    "colab_type": "text",
    "id": "DiVxc3iV12hi"
   },
   "source": [
    "## Logistická regrese\n"
   ]
  },
  {
   "cell_type": "code",
   "execution_count": null,
   "metadata": {
    "colab": {},
    "colab_type": "code",
    "id": "zrRZxySp14-Y"
   },
   "outputs": [],
   "source": [
    "logreg_container = WebsitesContainer()\n",
    "logreg_X_train, logreg_X_test, logreg_y_train, logreg_y_test = logreg_container.split_data(test_size=0.3)"
   ]
  },
  {
   "cell_type": "code",
   "execution_count": null,
   "metadata": {
    "colab": {},
    "colab_type": "code",
    "id": "_J3b5sdc16Sl"
   },
   "outputs": [],
   "source": [
    "%%capture\n",
    "logreg = LogisticRegression()\n",
    "logreg.fit(logreg_X_train, logreg_y_train)"
   ]
  },
  {
   "cell_type": "markdown",
   "metadata": {
    "colab_type": "text",
    "id": "D9jXYOSV17_D"
   },
   "source": [
    "### Evaluace\n"
   ]
  },
  {
   "cell_type": "code",
   "execution_count": null,
   "metadata": {
    "colab": {
     "base_uri": "https://localhost:8080/",
     "height": 458
    },
    "colab_type": "code",
    "id": "6Pj4BG_n19aj",
    "outputId": "45848e0e-4763-4d51-b8d1-46a9c926639d"
   },
   "outputs": [],
   "source": [
    "evaluate(logreg,logreg_X_test,logreg_y_test)"
   ]
  },
  {
   "cell_type": "markdown",
   "metadata": {
    "colab_type": "text",
    "id": "aJYzrKdJ1_Gd"
   },
   "source": [
    "### Koeficienty proměnných\n",
    "\n",
    "Nejvíc zvyšuje šanci na klasifikaci url adresy jako podvodné její délka ve znacích. Naopak vyšší doba, po kterou je url adresa aktivní zvyšuje kredibilitu adresy a top level doména *edu*."
   ]
  },
  {
   "cell_type": "code",
   "execution_count": null,
   "metadata": {
    "colab": {
     "base_uri": "https://localhost:8080/",
     "height": 489
    },
    "colab_type": "code",
    "id": "f_GWsXQW2ArC",
    "outputId": "b98f9bc6-0ddc-42ef-a6e0-9ab8cb7b5e53"
   },
   "outputs": [],
   "source": [
    "logistic_coefs(logreg, logreg_container)"
   ]
  },
  {
   "cell_type": "markdown",
   "metadata": {
    "colab_type": "text",
    "id": "2NNmbpSG2CQK"
   },
   "source": [
    "### LogisticRegressionCV\n",
    "\n",
    "Použita byla třída LogisticRegressionCV. Ta prohledává pouze vzhledem k hyperparametru C."
   ]
  },
  {
   "cell_type": "code",
   "execution_count": null,
   "metadata": {
    "colab": {},
    "colab_type": "code",
    "id": "Ts4nVGfN2EPt"
   },
   "outputs": [],
   "source": [
    "%%capture\n",
    "logreg_cv = LogisticRegressionCV(cv=10, Cs=20, max_iter=1000, n_jobs=-1)\n",
    "logreg_cv.fit(logreg_X_train, logreg_y_train)"
   ]
  },
  {
   "cell_type": "markdown",
   "metadata": {
    "colab_type": "text",
    "id": "hTPEWho02NkT"
   },
   "source": [
    "#### Evaluace\n",
    "Nalezený model má větší míru AUC než předešlý model."
   ]
  },
  {
   "cell_type": "code",
   "execution_count": null,
   "metadata": {
    "colab": {
     "base_uri": "https://localhost:8080/",
     "height": 509
    },
    "colab_type": "code",
    "id": "wXATpU_f2PLz",
    "outputId": "7e9d2e1f-dce8-4309-85ae-cab4304919ad"
   },
   "outputs": [],
   "source": [
    "evaluate(logreg_cv,logreg_X_test,logreg_y_test)\n",
    "show_params(logreg_cv)"
   ]
  },
  {
   "cell_type": "markdown",
   "metadata": {
    "colab_type": "text",
    "id": "CertuDQl2VqN"
   },
   "source": [
    "#### Koeficienty proměnných\n",
    "\n",
    "Koeficienty jsou oproti předešlému model méně regulovány."
   ]
  },
  {
   "cell_type": "code",
   "execution_count": null,
   "metadata": {
    "colab": {
     "base_uri": "https://localhost:8080/",
     "height": 490
    },
    "colab_type": "code",
    "id": "8CjR5z862XeK",
    "outputId": "206333e7-44c4-4368-bfc8-826cfe32f4bb"
   },
   "outputs": [],
   "source": [
    "logistic_coefs(logreg_cv, logreg_container)"
   ]
  },
  {
   "cell_type": "markdown",
   "metadata": {
    "colab_type": "text",
    "id": "7HRG9NS62rpP"
   },
   "source": [
    "## Rozhodovací strom"
   ]
  },
  {
   "cell_type": "code",
   "execution_count": null,
   "metadata": {
    "colab": {},
    "colab_type": "code",
    "id": "Jpe_lM6a2twe"
   },
   "outputs": [],
   "source": [
    "tree_container = WebsitesContainer()\n",
    "tree_X_train, tree_X_test, tree_y_train, tree_y_test = tree_container.split_data(test_size=0.3)"
   ]
  },
  {
   "cell_type": "code",
   "execution_count": null,
   "metadata": {
    "colab": {},
    "colab_type": "code",
    "id": "iNoAinEU2vQP"
   },
   "outputs": [],
   "source": [
    "%%capture\n",
    "tree = DecisionTreeClassifier(random_state=0)\n",
    "tree.fit(tree_X_train, tree_y_train)"
   ]
  },
  {
   "cell_type": "markdown",
   "metadata": {
    "colab_type": "text",
    "id": "_aKnjsc-2xhQ"
   },
   "source": [
    "### Evaluace"
   ]
  },
  {
   "cell_type": "code",
   "execution_count": null,
   "metadata": {
    "colab": {
     "base_uri": "https://localhost:8080/",
     "height": 458
    },
    "colab_type": "code",
    "id": "eq39IPvW2zut",
    "outputId": "3f5b9ddd-ca4a-4afb-e714-2487bdc14503"
   },
   "outputs": [],
   "source": [
    "evaluate(tree,tree_X_test,tree_y_test)"
   ]
  },
  {
   "cell_type": "markdown",
   "metadata": {
    "colab_type": "text",
    "id": "X2iBIj6G22kf"
   },
   "source": [
    "### Použité proměnné\n",
    "\n",
    "Na rozdíl od modelu logistické regrese se model významně opírá o proměnnou ranking."
   ]
  },
  {
   "cell_type": "code",
   "execution_count": null,
   "metadata": {
    "colab": {
     "base_uri": "https://localhost:8080/",
     "height": 443
    },
    "colab_type": "code",
    "id": "AxDuc-rl237E",
    "outputId": "4aca0231-df41-4b72-9346-1f6b01c597cf"
   },
   "outputs": [],
   "source": [
    "feature_importances(tree, tree_container)"
   ]
  },
  {
   "cell_type": "markdown",
   "metadata": {
    "colab_type": "text",
    "id": "sXu7odC225tQ"
   },
   "source": [
    "### Vizualizace stromu\n",
    "Strom už je příliš hluboký na to, aby se v tomto notebooku dal pohodlně číst."
   ]
  },
  {
   "cell_type": "code",
   "execution_count": null,
   "metadata": {
    "colab": {
     "base_uri": "https://localhost:8080/",
     "height": 280
    },
    "colab_type": "code",
    "id": "yN8g1oVI2-gl",
    "outputId": "7c2ef47e-ae2f-4108-984a-bfaae0a7d9f8"
   },
   "outputs": [],
   "source": [
    "visualise_tree(tree, tree_container)"
   ]
  },
  {
   "cell_type": "markdown",
   "metadata": {
    "colab_type": "text",
    "id": "JCE-jtv33DwE"
   },
   "source": [
    "### Menší strom\n",
    "\n",
    "Zajímavé bude vytvořit mělký strom například o hloubce 3."
   ]
  },
  {
   "cell_type": "code",
   "execution_count": null,
   "metadata": {
    "colab": {},
    "colab_type": "code",
    "id": "hZEB7CkO3IT0"
   },
   "outputs": [],
   "source": [
    "%%capture\n",
    "tree = DecisionTreeClassifier(max_depth=3,random_state=0)\n",
    "tree.fit(tree_X_train,tree_y_train)"
   ]
  },
  {
   "cell_type": "markdown",
   "metadata": {
    "colab_type": "text",
    "id": "sxY2mPId3LDw"
   },
   "source": [
    "Při konstrukci stromu je použit i odvozený atribut *usesHttps*."
   ]
  },
  {
   "cell_type": "code",
   "execution_count": null,
   "metadata": {
    "colab": {
     "base_uri": "https://localhost:8080/",
     "height": 283
    },
    "colab_type": "code",
    "id": "rCLhl_DF3NV_",
    "outputId": "4fe30020-bb27-4d41-d62a-852b9af04a04"
   },
   "outputs": [],
   "source": [
    "visualise_tree(tree, tree_container)"
   ]
  },
  {
   "cell_type": "markdown",
   "metadata": {
    "colab_type": "text",
    "id": "6dxIi-si3OjJ"
   },
   "source": [
    "#### Evaluace\n",
    "Míra AUC neukazuje úplně špatný výsledek na tak jednoduchý strom."
   ]
  },
  {
   "cell_type": "code",
   "execution_count": null,
   "metadata": {
    "colab": {
     "base_uri": "https://localhost:8080/",
     "height": 458
    },
    "colab_type": "code",
    "id": "Ea5_y3dn3Q6Z",
    "outputId": "b8a50448-5dae-447d-ff67-42fb2bc0f68a"
   },
   "outputs": [],
   "source": [
    "evaluate(tree,tree_X_test,tree_y_test)"
   ]
  },
  {
   "cell_type": "code",
   "execution_count": null,
   "metadata": {
    "colab": {
     "base_uri": "https://localhost:8080/",
     "height": 443
    },
    "colab_type": "code",
    "id": "c7jgFyUS3S5I",
    "outputId": "487c030e-8ec3-466a-9680-44a70662320f"
   },
   "outputs": [],
   "source": [
    "feature_importances(tree, tree_container)"
   ]
  },
  {
   "cell_type": "markdown",
   "metadata": {
    "colab_type": "text",
    "id": "o5Iq8S7k3T_c"
   },
   "source": [
    "### Grid Search\n",
    "\n",
    "Optimální rozhodovací strom budeme vyhledávat v prostoru použitého kritéria (*gini* nebo entropie) a maximální hloubky stromu. Hlubší strom znamená složitější, mělčí strom jednodušší model."
   ]
  },
  {
   "cell_type": "code",
   "execution_count": null,
   "metadata": {
    "colab": {},
    "colab_type": "code",
    "id": "I5uaF2KN3VjM"
   },
   "outputs": [],
   "source": [
    "%%capture\n",
    "tree = DecisionTreeClassifier(random_state=0)\n",
    "parameters = {\n",
    "    'criterion': ['gini', 'entropy'],\n",
    "    'max_depth': range(10, 100, 10),\n",
    "}\n",
    "tree_cv = GridSearchCV(tree, parameters, cv=10, n_jobs=-1)\n",
    "tree_cv.fit(tree_X_train,tree_y_train)"
   ]
  },
  {
   "cell_type": "markdown",
   "metadata": {
    "colab_type": "text",
    "id": "aGEzTbsl3W2K"
   },
   "source": [
    "#### Evaluace"
   ]
  },
  {
   "cell_type": "code",
   "execution_count": null,
   "metadata": {
    "colab": {
     "base_uri": "https://localhost:8080/",
     "height": 526
    },
    "colab_type": "code",
    "id": "XuLu8tuU3YKw",
    "outputId": "38882486-5201-4a81-f74e-404b6d4fa64f"
   },
   "outputs": [],
   "source": [
    "evaluate(tree_cv,tree_X_test,tree_y_test)\n",
    "show_params(tree_cv)"
   ]
  },
  {
   "cell_type": "code",
   "execution_count": null,
   "metadata": {
    "colab": {
     "base_uri": "https://localhost:8080/",
     "height": 443
    },
    "colab_type": "code",
    "id": "YdUJl1Zm3Zxh",
    "outputId": "79b39f80-e213-44f8-9e76-2093709fdfcb"
   },
   "outputs": [],
   "source": [
    "feature_importances(tree_cv.best_estimator_, tree_container)"
   ]
  },
  {
   "cell_type": "markdown",
   "metadata": {
    "colab_type": "text",
    "id": "d7ue_ic93bR2"
   },
   "source": [
    "## Multilayer Perceptron\n",
    "\n",
    "První nevysvětlitelný model je umělá neuronová síť Multilayer Perceptron. Podává trochu lepší výsledky ale její trénování trvá znatelně déle."
   ]
  },
  {
   "cell_type": "code",
   "execution_count": null,
   "metadata": {
    "colab": {},
    "colab_type": "code",
    "id": "GbOKKhu-3d6_"
   },
   "outputs": [],
   "source": [
    "mlp_container = WebsitesContainer(n=5000)\n",
    "mlp_X_train, mlp_X_test, mlp_y_train, mlp_y_test = mlp_container.split_data(test_size=0.3)"
   ]
  },
  {
   "cell_type": "code",
   "execution_count": null,
   "metadata": {
    "colab": {},
    "colab_type": "code",
    "id": "QuKH0G9D3erg"
   },
   "outputs": [],
   "source": [
    "%%capture\n",
    "mlp = MLPClassifier(random_state=0)\n",
    "mlp.fit(mlp_X_train,mlp_y_train)"
   ]
  },
  {
   "cell_type": "markdown",
   "metadata": {
    "colab_type": "text",
    "id": "Wwn76Pfg3hQp"
   },
   "source": [
    "### Evaluace"
   ]
  },
  {
   "cell_type": "code",
   "execution_count": null,
   "metadata": {
    "colab": {
     "base_uri": "https://localhost:8080/",
     "height": 458
    },
    "colab_type": "code",
    "id": "zsn-XoBA3jrd",
    "outputId": "280dcf6a-dc11-4843-c18d-24e52ce709fa"
   },
   "outputs": [],
   "source": [
    "evaluate(mlp,mlp_X_test, mlp_y_test)"
   ]
  },
  {
   "cell_type": "markdown",
   "metadata": {
    "colab_type": "text",
    "id": "rj2lPLYj3l7c"
   },
   "source": [
    "### Grid Search\n",
    "\n",
    "Bude se vyhledávat v prostoru parametru *alpha*. Jeho výchozí hodnota je *0.001*. Vyšší hodnota znamená jednodušší model."
   ]
  },
  {
   "cell_type": "code",
   "execution_count": null,
   "metadata": {
    "colab": {},
    "colab_type": "code",
    "id": "bllQR_Ev3oaT"
   },
   "outputs": [],
   "source": [
    "%%capture\n",
    "mlp = MLPClassifier(random_state=0, max_iter=1000)\n",
    "parameters = {\n",
    "    'alpha': np.logspace(-7, 4, 12),\n",
    "}\n",
    "mlp_cv = GridSearchCV(mlp, parameters, cv=10, n_jobs=-1)\n",
    "mlp_cv.fit(mlp_X_train,mlp_y_train)"
   ]
  },
  {
   "cell_type": "markdown",
   "metadata": {
    "colab_type": "text",
    "id": "J6RDeHtE3pGd"
   },
   "source": [
    "#### Evaluace"
   ]
  },
  {
   "cell_type": "code",
   "execution_count": null,
   "metadata": {
    "colab": {
     "base_uri": "https://localhost:8080/",
     "height": 509
    },
    "colab_type": "code",
    "id": "mgj-75753qoo",
    "outputId": "fb53a212-89a6-4ed7-d8a8-32456a96b810"
   },
   "outputs": [],
   "source": [
    "evaluate(mlp_cv,mlp_X_test, mlp_y_test)\n",
    "show_params(mlp_cv)"
   ]
  },
  {
   "cell_type": "markdown",
   "metadata": {
    "colab_type": "text",
    "id": "x__IPB3O3sK1"
   },
   "source": [
    "## Random Forests"
   ]
  },
  {
   "cell_type": "code",
   "execution_count": null,
   "metadata": {
    "colab": {},
    "colab_type": "code",
    "id": "rexEbIkI3ufp"
   },
   "outputs": [],
   "source": [
    "forest_container = WebsitesContainer()\n",
    "forest_X_train, forest_X_test, forest_y_train, forest_y_test = forest_container.split_data(test_size=0.3)"
   ]
  },
  {
   "cell_type": "code",
   "execution_count": null,
   "metadata": {
    "colab": {},
    "colab_type": "code",
    "id": "8oO-3pUl3xU-"
   },
   "outputs": [],
   "source": [
    "%%capture\n",
    "forest = RandomForestClassifier(random_state=0)\n",
    "forest.fit(forest_X_train, forest_y_train)"
   ]
  },
  {
   "cell_type": "markdown",
   "metadata": {
    "colab_type": "text",
    "id": "E9IScaTR32SC"
   },
   "source": [
    "### Evaluace"
   ]
  },
  {
   "cell_type": "code",
   "execution_count": null,
   "metadata": {
    "colab": {
     "base_uri": "https://localhost:8080/",
     "height": 458
    },
    "colab_type": "code",
    "id": "5uoFA88D3379",
    "outputId": "a73fdb4d-35fa-4549-f281-3d762d4a856f"
   },
   "outputs": [],
   "source": [
    "evaluate(forest,forest_X_test, forest_y_test)"
   ]
  },
  {
   "cell_type": "markdown",
   "metadata": {
    "colab_type": "text",
    "id": "RnyYfpZF35eA"
   },
   "source": [
    "### Grid Search\n",
    "\n",
    "Budeme ladit tyto hyperparametry:\n",
    "* **n_estimators**: počet stromů v lese. Více stromu vytváří složitější model\n",
    "* **criterion**: kritérium pro porovnání kvality rozdělení souboru ve větvi"
   ]
  },
  {
   "cell_type": "code",
   "execution_count": null,
   "metadata": {
    "colab": {},
    "colab_type": "code",
    "id": "gSW5PpJW37a2"
   },
   "outputs": [],
   "source": [
    "%%capture\n",
    "forest = RandomForestClassifier(random_state=0)\n",
    "parameters = {\n",
    "    'n_estimators': np.logspace(1,3,3, dtype='int64'),\n",
    "    'criterion': ['gini', 'entropy'],\n",
    "}\n",
    "forest_cv = GridSearchCV(forest, parameters, cv=10, n_jobs=-1)\n",
    "forest_cv.fit(forest_X_train, forest_y_train)"
   ]
  },
  {
   "cell_type": "markdown",
   "metadata": {
    "colab_type": "text",
    "id": "4laaaEKV7GZ7"
   },
   "source": [
    "#### Evaluace"
   ]
  },
  {
   "cell_type": "code",
   "execution_count": null,
   "metadata": {
    "colab": {
     "base_uri": "https://localhost:8080/",
     "height": 458
    },
    "colab_type": "code",
    "id": "-zudUy6o3--7",
    "outputId": "2d0b3f87-f4b4-41fa-b28e-0245aa477152"
   },
   "outputs": [],
   "source": [
    "evaluate(forest_cv,forest_X_test, forest_y_test)"
   ]
  },
  {
   "cell_type": "markdown",
   "metadata": {
    "colab_type": "text",
    "id": "KELKlrIp4Acg"
   },
   "source": [
    "# Porovnání modelů\n",
    "\n",
    "Vytvořené modely budeme porovnávat:\n",
    "* zanesením jejich ROC křivky do jednoho grafu\n",
    "* seřazením podle dosažené přesnosti"
   ]
  },
  {
   "cell_type": "code",
   "execution_count": null,
   "metadata": {
    "colab": {
     "base_uri": "https://localhost:8080/",
     "height": 458
    },
    "colab_type": "code",
    "id": "qNhd-R9M4B9f",
    "outputId": "6f739cc8-0bed-40bc-d656-0eb98e96891d"
   },
   "outputs": [],
   "source": [
    "estimators = [\n",
    "    [tree_cv.best_estimator_, tree_X_test, tree_y_test],\n",
    "    [logreg_cv, logreg_X_test, logreg_y_test],\n",
    "    [mlp_cv.best_estimator_, mlp_X_test, mlp_y_test],\n",
    "    [forest_cv.best_estimator_, forest_X_test, forest_y_test],\n",
    "]\n",
    "compare_estimators(estimators)"
   ]
  },
  {
   "cell_type": "markdown",
   "metadata": {},
   "source": [
    "# Závěr\n",
    "\n",
    "V rámci této práce byly nad předzpracovanými daty vytvořeny modely algoritmů rozhodovacího stromu, random forrestu, multilayer perceptronu a logistické regrese. Pro multilayer perceptron byl použit zlomek dostupných dat, aby bylo možné model natrénovat v rozumném čase. Nejlépe ze srovnání modelů vychází algoritmus random forrestu s hodnotou AUC 99,7 % a přesností 97,5 %. Z interpretace modelů logistické regrese a rozhodovacího stromu vyplývá, že nejdůležitějšími prediktory závadnosti url adresy jsou hodnoty sloupců urlLen, activeDuration, ranking, domainLen a containsWWW. \n",
    "\n",
    "Vytvořené modely bohužel nejsou vhodné pro provoz, např. vystavení jako webová služba, protože jsme se z dokumentace zdrojových dat nedozvěděli, které služby byly použity pro získání dat sloupců ranking, activeDuration a valid. Dal by se vytvořit podobný model využívající libovolnou obdobnou službu, kterých je na internetu spousta. Nebo by se dal využít nový model nad stejnými daty, který tyto sloupce nevyužívá."
   ]
  }
 ],
 "metadata": {
  "colab": {
   "collapsed_sections": [],
   "machine_shape": "hm",
   "name": "notebook.ipynb",
   "provenance": [],
   "toc_visible": true
  },
  "kernelspec": {
   "display_name": "Python 3",
   "language": "python",
   "name": "python3"
  },
  "language_info": {
   "codemirror_mode": {
    "name": "ipython",
    "version": 3
   },
   "file_extension": ".py",
   "mimetype": "text/x-python",
   "name": "python",
   "nbconvert_exporter": "python",
   "pygments_lexer": "ipython3",
   "version": "3.7.7"
  }
 },
 "nbformat": 4,
 "nbformat_minor": 1
}
